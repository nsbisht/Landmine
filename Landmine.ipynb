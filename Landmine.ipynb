{
 "cells": [
  {
   "cell_type": "markdown",
   "metadata": {},
   "source": [
    "## Shortest distance of every cell from landmine in a Maze"
   ]
  },
  {
   "cell_type": "markdown",
   "metadata": {},
   "source": [
    "Given a Maze in the form of a rectangular matrix, filled with either O, X, or M, where \n",
    "- O represents an open cell\n",
    "- X represents a blocked cell \n",
    "- M represents landmines in the maze\n",
    "\n",
    "we need to find the shortest distance of every open cell in the maze from its nearest mine.\n",
    "\n",
    "We are only allowed to travel in either of the four directions and diagonal moves are not allowed. \n",
    "\n",
    "Assumptions:\n",
    "- Cells with mine have distance 0\n",
    "- Blocked cells and unreachable cells have distance -1"
   ]
  },
  {
   "cell_type": "markdown",
   "metadata": {},
   "source": [
    "![](Mine.png)"
   ]
  },
  {
   "cell_type": "code",
   "execution_count": 1,
   "metadata": {},
   "outputs": [],
   "source": [
    "import ipywidgets as widgets\n",
    "from IPython.display import clear_output"
   ]
  },
  {
   "cell_type": "code",
   "execution_count": 2,
   "metadata": {},
   "outputs": [],
   "source": [
    "from collections import deque\n",
    "  \n",
    "# check if specified row and column are valid matrix index\n",
    "def is_valid(i, j):\n",
    "    return (0 <= i < M) and (0 <= j < N)\n",
    " \n",
    "# check if current cell is an open area and its\n",
    "# distance from mine is not yet calculated\n",
    "def is_safe(i, j, mat, result):\n",
    "    return mat[i][j] == 'O' and result[i][j] == -1\n",
    " \n",
    "# Replace all O's in the matrix with their shortest distance\n",
    "# from the nearest mine\n",
    "def update_distance(mat, result):\n",
    " \n",
    "    # initialize an empty queue\n",
    "    q = deque()\n",
    " \n",
    "    # find all mines location and add them to the queue\n",
    "    for i in range(M):\n",
    "        \n",
    "        for j in range(N):\n",
    "            # if current cell represents a mine\n",
    "            if mat[i][j] == 'M':\n",
    "                q.append((i, j, 0))\n",
    " \n",
    "                # update mine distance as 0\n",
    "                result[i][j] = 0\n",
    " \n",
    "            # else initialize mine distance by as -1\n",
    "            else:\n",
    "                result[i][j] = -1\n",
    " \n",
    "    # lists to get indices of 4 adjacent cells of a given cell\n",
    "    R = [0, -1, 0, 1]\n",
    "    C = [-1, 0, 1, 0]\n",
    " \n",
    "    # do for each in the queue\n",
    "    while q:\n",
    " \n",
    "        # dequeue the front cell\n",
    "        x, y, distance = q.popleft()\n",
    " \n",
    "        # update the 4 adjacent cells of the front node in the queue\n",
    "        for i in range(4):\n",
    "            \n",
    "            # enqueue the adjacent cell if it is valid, unvisited,\n",
    "            # and has a path through it\n",
    "            if is_valid(x + R[i], y + C[i]) and is_safe(x + R[i], y + C[i], mat, result):\n",
    "                result[x + R[i]][y + C[i]] = distance + 1\n",
    "                q.append((x + R[i], y + C[i], distance + 1))"
   ]
  },
  {
   "cell_type": "code",
   "execution_count": 8,
   "metadata": {},
   "outputs": [],
   "source": [
    "mat = [['O', 'M', 'O', 'O', 'X'],\n",
    "       ['O', 'X', 'X', 'O', 'M'],\n",
    "       ['O', 'O', 'O', 'O', 'O'],\n",
    "       ['O', 'X', 'X', 'X', 'O'],\n",
    "       ['O', 'O', 'M', 'O', 'O'],\n",
    "       ['O', 'X', 'X', 'M', 'O']]\n",
    " \n",
    "# M x N matrix\n",
    "M = 6\n",
    "N = 5"
   ]
  },
  {
   "cell_type": "code",
   "execution_count": 6,
   "metadata": {},
   "outputs": [],
   "source": [
    "maze_row_number = widgets.Dropdown(\n",
    "    options = [(\"One\", 1), (\"Two\", 2), (\"Three\", 3), (\"Four\", 4), (\"Five\", 5), (\"Six\", 6)],\n",
    "    disabled = False,\n",
    ")\n",
    "\n",
    "output_row = widgets.Output()\n",
    "\n",
    "button_Find_Shortest_Paths = widgets.Button(description=\"Find_Shortest_Paths\")\n",
    "\n",
    "def on_button_Find_Shortest_Paths(b):\n",
    " \n",
    "    result = [[0 for x in range(N)] for y in range(M)]\n",
    "    update_distance(mat, result)\n",
    "    with output_row:\n",
    "        clear_output(True)\n",
    "        print(result[maze_row_number.value - 1])\n",
    "            \n",
    "button_Find_Shortest_Paths.on_click(on_button_Find_Shortest_Paths)"
   ]
  },
  {
   "cell_type": "code",
   "execution_count": 7,
   "metadata": {},
   "outputs": [
    {
     "name": "stdout",
     "output_type": "stream",
     "text": [
      "Please select a row number:\n",
      "\n"
     ]
    },
    {
     "data": {
      "application/vnd.jupyter.widget-view+json": {
       "model_id": "9016b788b46f401f9cb5e23501a42bc7",
       "version_major": 2,
       "version_minor": 0
      },
      "text/plain": [
       "Dropdown(options=(('One', 1), ('Two', 2), ('Three', 3), ('Four', 4), ('Five', 5), ('Six', 6)), value=1)"
      ]
     },
     "metadata": {},
     "output_type": "display_data"
    },
    {
     "data": {
      "application/vnd.jupyter.widget-view+json": {
       "model_id": "35b847ed49984b89b34edcdd7684c41e",
       "version_major": 2,
       "version_minor": 0
      },
      "text/plain": [
       "Button(description='Find_Shortest_Paths', style=ButtonStyle())"
      ]
     },
     "metadata": {},
     "output_type": "display_data"
    },
    {
     "data": {
      "application/vnd.jupyter.widget-view+json": {
       "model_id": "6803bb94a52240458e5202130cf5a4b1",
       "version_major": 2,
       "version_minor": 0
      },
      "text/plain": [
       "Output()"
      ]
     },
     "metadata": {},
     "output_type": "display_data"
    }
   ],
   "source": [
    "print(\"Please select a row number:\\n\")\n",
    "display(maze_row_number)\n",
    "display(button_Find_Shortest_Paths)\n",
    "display(output_row)"
   ]
  },
  {
   "cell_type": "code",
   "execution_count": null,
   "metadata": {},
   "outputs": [],
   "source": []
  },
  {
   "cell_type": "code",
   "execution_count": null,
   "metadata": {},
   "outputs": [],
   "source": []
  }
 ],
 "metadata": {
  "kernelspec": {
   "display_name": "Python 3",
   "language": "python",
   "name": "python3"
  },
  "language_info": {
   "codemirror_mode": {
    "name": "ipython",
    "version": 3
   },
   "file_extension": ".py",
   "mimetype": "text/x-python",
   "name": "python",
   "nbconvert_exporter": "python",
   "pygments_lexer": "ipython3",
   "version": "3.8.5"
  }
 },
 "nbformat": 4,
 "nbformat_minor": 4
}
